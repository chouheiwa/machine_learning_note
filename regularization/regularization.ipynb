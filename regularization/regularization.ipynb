{
 "cells": [
  {
   "cell_type": "code",
   "execution_count": 72,
   "outputs": [],
   "source": [
    "import numpy as np\n",
    "%matplotlib widget\n",
    "import matplotlib.pyplot as plt\n",
    "from classification.lab_utils_common import sigmoid\n",
    "\n",
    "np.set_printoptions(precision=8)"
   ],
   "metadata": {
    "collapsed": false,
    "pycharm": {
     "name": "#%%\n"
    }
   }
  },
  {
   "cell_type": "markdown",
   "source": [
    "# 正则化"
   ],
   "metadata": {
    "collapsed": false,
    "pycharm": {
     "name": "#%% md\n"
    }
   }
  },
  {
   "cell_type": "markdown",
   "source": [
    "## 正则化代价函数-线性回归\n",
    "$$\n",
    "J(\\mathbf{w}, b) = \\frac{1}{2m} \\sum_{i=1}^m(f_{\\mathbf{w}, b}(\\mathbf{x}^{(i)}) - y^{(i)})^2 + \\frac{\\lambda}{2m} \\sum_{j=1}^n w_j^2\n",
    "$$\n",
    "$\\lambda$如果过大，那么最终$\\mathbf{w}$将减小。"
   ],
   "metadata": {
    "collapsed": false,
    "pycharm": {
     "name": "#%% md\n"
    }
   }
  },
  {
   "cell_type": "code",
   "execution_count": 73,
   "outputs": [],
   "source": [
    "def compute_cost_linear_reg(X, y, w, b, lambda_=1):\n",
    "    m, n = X.shape\n",
    "    j_normal_cost = 0.\n",
    "    for i in range(m):\n",
    "        err = np.dot(X[i], w) + b - y[i]\n",
    "        j_normal_cost += err ** 2\n",
    "    j_normal_cost /= 2 * m\n",
    "    j_regularization_cost = 0.\n",
    "    for j in range(n):\n",
    "        j_regularization_cost += w[j] ** 2\n",
    "    j_regularization_cost = j_regularization_cost * lambda_ / (2 * m)\n",
    "    return j_normal_cost + j_regularization_cost"
   ],
   "metadata": {
    "collapsed": false,
    "pycharm": {
     "name": "#%%\n"
    }
   }
  },
  {
   "cell_type": "code",
   "execution_count": 74,
   "outputs": [
    {
     "name": "stdout",
     "output_type": "stream",
     "text": [
      "Regularized cost: 0.07917239320214275\n"
     ]
    }
   ],
   "source": [
    "np.random.seed(1)\n",
    "X_tmp = np.random.rand(5, 6)\n",
    "y_tmp = np.array([0, 1, 0, 1, 0])\n",
    "w_tmp = np.random.rand(X_tmp.shape[1]).reshape(-1, ) - 0.5\n",
    "b_tmp = 0.5\n",
    "lambda_tmp = 0.7\n",
    "cost_tmp = compute_cost_linear_reg(X_tmp, y_tmp, w_tmp, b_tmp, lambda_tmp)\n",
    "\n",
    "print(\"Regularized cost:\", cost_tmp)"
   ],
   "metadata": {
    "collapsed": false,
    "pycharm": {
     "name": "#%%\n"
    }
   }
  },
  {
   "cell_type": "markdown",
   "source": [],
   "metadata": {
    "collapsed": false,
    "pycharm": {
     "name": "#%% md\n"
    }
   }
  },
  {
   "cell_type": "markdown",
   "source": [
    "## 正则化代价函数-Logistic Regression\n",
    "$$\n",
    "J(\\mathbf{w}, b) = -\\frac{1}{m} \\sum_{i=1}^m(y^{(i)}\\log[f_{\\mathbf{w}, b}(\\mathbf{x}^{(i)})] + (1- y^{(i)})\\log[1-f_{\\mathbf{w}, b}(\\mathbf{x}^{(i)})]) + \\frac{\\lambda}{2m} \\sum_{j=1}^n w_j^2\n",
    "$$"
   ],
   "metadata": {
    "collapsed": false,
    "pycharm": {
     "name": "#%% md\n"
    }
   }
  },
  {
   "cell_type": "code",
   "execution_count": 75,
   "outputs": [],
   "source": [
    "def compute_cost_logistic_reg(X, y, w, b, lambda_=1):\n",
    "    m, n = X.shape\n",
    "    j_normal_cost = 0.\n",
    "    for i in range(m):\n",
    "        f = sigmoid(np.dot(X[i], w) + b)\n",
    "        j_normal_cost += y[i] * np.log(f) + (1 - y[i]) * np.log(1 - f)\n",
    "    j_normal_cost /= (-m)\n",
    "    j_regularization_cost = 0.\n",
    "    for j in range(n):\n",
    "        j_regularization_cost += w[j] ** 2\n",
    "    j_regularization_cost *= (lambda_ / (2 * m))\n",
    "    return j_regularization_cost + j_normal_cost"
   ],
   "metadata": {
    "collapsed": false,
    "pycharm": {
     "name": "#%%\n"
    }
   }
  },
  {
   "cell_type": "code",
   "execution_count": 76,
   "outputs": [
    {
     "name": "stdout",
     "output_type": "stream",
     "text": [
      "Regularized cost: 0.6850849138741673\n"
     ]
    }
   ],
   "source": [
    "np.random.seed(1)\n",
    "X_tmp = np.random.rand(5, 6)\n",
    "y_tmp = np.array([0, 1, 0, 1, 0])\n",
    "w_tmp = np.random.rand(X_tmp.shape[1]).reshape(-1, ) - 0.5\n",
    "b_tmp = 0.5\n",
    "lambda_tmp = 0.7\n",
    "cost_tmp = compute_cost_logistic_reg(X_tmp, y_tmp, w_tmp, b_tmp, lambda_tmp)\n",
    "\n",
    "print(\"Regularized cost:\", cost_tmp)"
   ],
   "metadata": {
    "collapsed": false,
    "pycharm": {
     "name": "#%%\n"
    }
   }
  },
  {
   "cell_type": "markdown",
   "source": [
    "# 正则化梯度下降\n",
    "$$\n",
    "w_j = w_j - \\alpha \\frac{\\partial}{\\partial w_j} J(\\mathbf{w}, b) =w_j - \\alpha [\\frac{1}{m} \\sum_{i=1}^m(f_{\\mathbf{w}, b}(\\mathbf{x}^{(i)}) - y^{(i)})x_j^{(i)} + \\frac{\\lambda}{m}w_j]\n",
    "$$"
   ],
   "metadata": {
    "collapsed": false,
    "pycharm": {
     "name": "#%% md\n"
    }
   }
  },
  {
   "cell_type": "markdown",
   "source": [
    "# 线性回归梯度下降"
   ],
   "metadata": {
    "collapsed": false,
    "pycharm": {
     "name": "#%% md\n"
    }
   }
  },
  {
   "cell_type": "code",
   "execution_count": 77,
   "outputs": [],
   "source": [
    "def compute_gradient_linear_reg(X, y, w, b, lambda_=1):\n",
    "    m, n = X.shape\n",
    "    dj_dw = np.zeros((n,))\n",
    "    dj_db = 0.\n",
    "    for i in range(m):\n",
    "        err = np.dot(X[i], w) + b - y[i]\n",
    "        for j in range(n):\n",
    "            dj_dw[j] += err * X[i, j]\n",
    "        dj_db += err\n",
    "    dj_dw /= m\n",
    "    dj_db /= m\n",
    "    for j in range(n):\n",
    "        dj_dw[j] += lambda_ / m * w[j]\n",
    "    return dj_db, dj_dw"
   ],
   "metadata": {
    "collapsed": false,
    "pycharm": {
     "name": "#%%\n"
    }
   }
  },
  {
   "cell_type": "code",
   "execution_count": 78,
   "outputs": [
    {
     "name": "stdout",
     "output_type": "stream",
     "text": [
      "dj_db: 0.6648774569425726\n",
      "Regularized dj_dw:\n",
      " [0.29653214748822276, 0.4911679625918033, 0.21645877535865857]\n"
     ]
    }
   ],
   "source": [
    "np.random.seed(1)\n",
    "X_tmp = np.random.rand(5, 3)\n",
    "y_tmp = np.array([0, 1, 0, 1, 0])\n",
    "w_tmp = np.random.rand(X_tmp.shape[1])\n",
    "b_tmp = 0.5\n",
    "lambda_tmp = 0.7\n",
    "dj_db_tmp, dj_dw_tmp = compute_gradient_linear_reg(X_tmp, y_tmp, w_tmp, b_tmp, lambda_tmp)\n",
    "\n",
    "print(f\"dj_db: {dj_db_tmp}\", )\n",
    "print(f\"Regularized dj_dw:\\n {dj_dw_tmp.tolist()}\", )"
   ],
   "metadata": {
    "collapsed": false,
    "pycharm": {
     "name": "#%%\n"
    }
   }
  },
  {
   "cell_type": "markdown",
   "source": [
    "**期望输出**\n",
    "```\n",
    "dj_db: 0.6648774569425726\n",
    "Regularized dj_dw:\n",
    " [0.29653214748822276, 0.4911679625918033, 0.21645877535865857]\n",
    " ```"
   ],
   "metadata": {
    "collapsed": false,
    "pycharm": {
     "name": "#%% md\n"
    }
   }
  },
  {
   "cell_type": "markdown",
   "source": [
    "# Logistics regression梯度下降"
   ],
   "metadata": {
    "collapsed": false,
    "pycharm": {
     "name": "#%% md\n"
    }
   }
  },
  {
   "cell_type": "code",
   "execution_count": 79,
   "outputs": [],
   "source": [
    "def compute_gradient_logistic_reg(X, y, w, b, lambda_=1):\n",
    "    m, n = X.shape\n",
    "    dj_dw = np.zeros((n, ))\n",
    "    dj_db = 0\n",
    "\n",
    "    for i in range(m):\n",
    "        err = sigmoid(np.dot(X[i], w) + b) - y[i]\n",
    "        for j in range(n):\n",
    "            dj_dw[j] += err * X[i, j]\n",
    "        dj_db += err\n",
    "\n",
    "    dj_dw /= m\n",
    "    dj_db /= m\n",
    "    for j in range(n):\n",
    "        dj_dw[j] += (lambda_/m) * w[j]\n",
    "    return dj_db, dj_dw"
   ],
   "metadata": {
    "collapsed": false,
    "pycharm": {
     "name": "#%%\n"
    }
   }
  },
  {
   "cell_type": "code",
   "execution_count": 80,
   "outputs": [
    {
     "name": "stdout",
     "output_type": "stream",
     "text": [
      "dj_db: 0.341798994972791\n",
      "Regularized dj_dw:\n",
      " [0.17380012933994293, 0.32007507881566943, 0.10776313396851499]\n"
     ]
    }
   ],
   "source": [
    "np.random.seed(1)\n",
    "X_tmp = np.random.rand(5,3)\n",
    "y_tmp = np.array([0,1,0,1,0])\n",
    "w_tmp = np.random.rand(X_tmp.shape[1])\n",
    "b_tmp = 0.5\n",
    "lambda_tmp = 0.7\n",
    "dj_db_tmp, dj_dw_tmp =  compute_gradient_logistic_reg(X_tmp, y_tmp, w_tmp, b_tmp, lambda_tmp)\n",
    "\n",
    "print(f\"dj_db: {dj_db_tmp}\", )\n",
    "print(f\"Regularized dj_dw:\\n {dj_dw_tmp.tolist()}\", )"
   ],
   "metadata": {
    "collapsed": false,
    "pycharm": {
     "name": "#%%\n"
    }
   }
  }
 ],
 "metadata": {
  "kernelspec": {
   "display_name": "Python 3",
   "language": "python",
   "name": "python3"
  },
  "language_info": {
   "codemirror_mode": {
    "name": "ipython",
    "version": 2
   },
   "file_extension": ".py",
   "mimetype": "text/x-python",
   "name": "python",
   "nbconvert_exporter": "python",
   "pygments_lexer": "ipython2",
   "version": "2.7.6"
  }
 },
 "nbformat": 4,
 "nbformat_minor": 0
}