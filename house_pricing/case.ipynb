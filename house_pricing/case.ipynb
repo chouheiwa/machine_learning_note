{
 "cells": [
  {
   "cell_type": "markdown",
   "metadata": {
    "pycharm": {
     "name": "#%% md\n"
    }
   },
   "source": [
    "## 训练数据集"
   ]
  },
  {
   "cell_type": "code",
   "execution_count": 57,
   "metadata": {
    "pycharm": {
     "name": "#%%\n"
    }
   },
   "outputs": [],
   "source": [
    "train_size = [[1.0, 1.0, 1.0, 1.0], [2104.0, 1416.0, 1534.0, 852.0]]\n",
    "target_y = [460, 232, 315, 178]"
   ]
  },
  {
   "cell_type": "markdown",
   "metadata": {
    "pycharm": {
     "name": "#%% md\n"
    }
   },
   "source": [
    "## 获取数据集的个数与维度\n"
   ]
  },
  {
   "cell_type": "code",
   "execution_count": 58,
   "metadata": {
    "pycharm": {
     "name": "#%%\n"
    }
   },
   "outputs": [],
   "source": [
    "m = len(train_size[0])\n",
    "n = len(train_size) - 1"
   ]
  },
  {
   "cell_type": "markdown",
   "source": [
    "对于较大的数据，我们一般要对齐进行放缩处理，最终将其映射到-1至1的区间中"
   ],
   "metadata": {
    "collapsed": false,
    "pycharm": {
     "name": "#%% md\n"
    }
   }
  },
  {
   "cell_type": "code",
   "execution_count": 59,
   "outputs": [],
   "source": [
    "data_set_range = 0\n",
    "for i in range(0, n):\n",
    "    item = train_size[i + 1]\n",
    "    max_item = item[0]\n",
    "    min_item = item[0]\n",
    "\n",
    "    for item_sub in item:\n",
    "        if max_item < item_sub:\n",
    "            max_item = item_sub\n",
    "        if min_item > item_sub:\n",
    "            min_item = item_sub\n",
    "    data_set_range = max_item - min_item\n",
    "    mid_item = (max_item + min_item) / 2\n",
    "    for j in range(0, m):\n",
    "        item[j] = (item[j] - mid_item) / data_set_range"
   ],
   "metadata": {
    "collapsed": false,
    "pycharm": {
     "name": "#%%\n"
    }
   }
  },
  {
   "cell_type": "markdown",
   "metadata": {
    "pycharm": {
     "name": "#%% md\n"
    }
   },
   "source": [
    "$$\n",
    "    预测函数:\\\\\n",
    "    h(x) = \\theta_0x_0 + \\theta_1x_1, 其中 x_0 = 1\\\\\n",
    "    h(x) = \\theta_0 + \\theta_1x_1\n",
    "    \\\\\n",
    "    代价函数:\\\\\n",
    "    J(\\theta_0, \\theta_1) = \\frac{1}{2m}\\sum_{i=1}^m(h(x^{(i)}) - y^{(i)})^2\\\\\n",
    "    J(\\theta_0, \\theta_1) = \\frac{1}{2m}\\sum_{i=1}^m(\\theta_0 + \\theta_1x_1^{(i)} - y^{(i)})^2\n",
    "$$"
   ]
  },
  {
   "cell_type": "markdown",
   "metadata": {
    "pycharm": {
     "name": "#%% md\n"
    }
   },
   "source": [
    "$$\n",
    "    梯度下降公式: \\\\\n",
    "    \\theta_0 := \\theta_0 - \\alpha\\frac{\\partial}{\\partial\\theta_0}J(\\theta_0, \\theta_1) \\\\\n",
    "    \\theta_1 := \\theta_1 - \\alpha\\frac{\\partial}{\\partial\\theta_1}J(\\theta_0, \\theta_1) \\\\\n",
    "    注: 这里要满足同时下降(需要同时更新\\theta_0和\\theta_1)\\\\\n",
    "    \\theta_0 := \\theta_0 - \\alpha\\frac{1}{m}\\sum_{i=1}^m(\\theta_0 + \\theta_1x_1^{(i)} - y^{(i)})\\\\\n",
    "    \\theta_1 := \\theta_1 - \\alpha\\frac{1}{m}\\sum_{i=1}^m(\\theta_0 + \\theta_1x_1^{(i)} - y^{(i)})x_1^{(i)}\n",
    "$$"
   ]
  },
  {
   "cell_type": "code",
   "execution_count": 60,
   "outputs": [
    {
     "name": "stdout",
     "output_type": "stream",
     "text": [
      "[[1.0, 1.0, 1.0, 1.0], [0.5, -0.04952076677316294, 0.04472843450479233, -0.5]]\n",
      "拟合方程为: 221.45288589950175 + 0.05976141652689831x,拟合总次数为2402\n"
     ]
    }
   ],
   "source": [
    "t0 = 0\n",
    "t1 = 0\n",
    "learn_rate = 0.001\n",
    "\n",
    "last_t0 = 10000\n",
    "last_t1 = 10000\n",
    "print(train_size)\n",
    "def caculate(index):\n",
    "    summary = 0.0\n",
    "    for i in range(0, m):\n",
    "        summary += (t0 + t1*train_size[index][i] - target_y[i]) * train_size[index][i]\n",
    "\n",
    "    return summary\n",
    "count = 0\n",
    "while abs(t0 - last_t0) > 0.00001 and abs(t1 - last_t1) > 0.00001:\n",
    "    last_t0 = t0\n",
    "    last_t1 = t1\n",
    "    temp0 = t0 - learn_rate * caculate(0) / m\n",
    "    temp1 = t1 - learn_rate * caculate(1) / m\n",
    "    t0 = temp0\n",
    "    t1 = temp1\n",
    "    count += 1\n",
    "\n",
    "t1 = t1 / data_set_range\n",
    "\n",
    "print(f'拟合方程为: {t0} + {t1}x,拟合总次数为{count}')"
   ],
   "metadata": {
    "collapsed": false,
    "pycharm": {
     "name": "#%%\n"
    }
   }
  },
  {
   "cell_type": "code",
   "execution_count": 61,
   "outputs": [
    {
     "name": "stdout",
     "output_type": "stream",
     "text": [
      "347.1909062720958\n"
     ]
    }
   ],
   "source": [
    "print(t0 + t1 * 2104)"
   ],
   "metadata": {
    "collapsed": false,
    "pycharm": {
     "name": "#%%\n"
    }
   }
  },
  {
   "cell_type": "code",
   "execution_count": 61,
   "outputs": [],
   "source": [],
   "metadata": {
    "collapsed": false,
    "pycharm": {
     "name": "#%%\n"
    }
   }
  }
 ],
 "metadata": {
  "kernelspec": {
   "display_name": "Python 3 (ipykernel)",
   "language": "python",
   "name": "python3"
  },
  "language_info": {
   "codemirror_mode": {
    "name": "ipython",
    "version": 3
   },
   "file_extension": ".py",
   "mimetype": "text/x-python",
   "name": "python",
   "nbconvert_exporter": "python",
   "pygments_lexer": "ipython3",
   "version": "3.9.13"
  }
 },
 "nbformat": 4,
 "nbformat_minor": 1
}